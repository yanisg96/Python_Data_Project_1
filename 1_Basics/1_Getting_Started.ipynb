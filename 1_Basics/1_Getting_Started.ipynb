{
  "nbformat": 4,
  "nbformat_minor": 0,
  "metadata": {
    "colab": {
      "provenance": []
    },
    "kernelspec": {
      "name": "python3",
      "display_name": "Python 3"
    },
    "language_info": {
      "name": "python"
    }
  },
  "cells": [
    {
      "cell_type": "markdown",
      "source": [
        "# Python/coding vs markdown Cell"
      ],
      "metadata": {
        "id": "El-G08s8XO4k"
      }
    },
    {
      "cell_type": "code",
      "source": [
        "\"this is a coding cell\""
      ],
      "metadata": {
        "colab": {
          "base_uri": "https://localhost:8080/",
          "height": 36
        },
        "id": "__qY0Bd_TOZb",
        "outputId": "7bc9e1c1-389e-4d0f-a299-a34073748629"
      },
      "execution_count": null,
      "outputs": [
        {
          "output_type": "execute_result",
          "data": {
            "text/plain": [
              "'this is a coding cell'"
            ],
            "application/vnd.google.colaboratory.intrinsic+json": {
              "type": "string"
            }
          },
          "metadata": {},
          "execution_count": 1
        }
      ]
    },
    {
      "cell_type": "markdown",
      "source": [
        "This is a markdown cell"
      ],
      "metadata": {
        "id": "QucfDC5ATg4F"
      }
    },
    {
      "cell_type": "markdown",
      "source": [
        "# How to run a Cell + Python Basics"
      ],
      "metadata": {
        "id": "LL269GXwUAPP"
      }
    },
    {
      "cell_type": "markdown",
      "source": [
        "*Easy Way:* Click the run button\n",
        "\n",
        "\n",
        "\n",
        "\n",
        "\n",
        "*Pro Way:* With the cell selected type **Ctrl + Enter**"
      ],
      "metadata": {
        "id": "lWDpw4C6Ud3B"
      }
    },
    {
      "cell_type": "code",
      "source": [
        "2+2"
      ],
      "metadata": {
        "colab": {
          "base_uri": "https://localhost:8080/"
        },
        "id": "aDgT8C-bUWOS",
        "outputId": "d63afda7-f594-4893-e85b-28d093f35b97"
      },
      "execution_count": null,
      "outputs": [
        {
          "output_type": "execute_result",
          "data": {
            "text/plain": [
              "4"
            ]
          },
          "metadata": {},
          "execution_count": 2
        }
      ]
    },
    {
      "cell_type": "markdown",
      "source": [
        "With **Shift + Enter** you can run the cell and move selection to the next cell"
      ],
      "metadata": {
        "id": "kGOF5d80VgKt"
      }
    },
    {
      "cell_type": "code",
      "source": [
        "3+5"
      ],
      "metadata": {
        "colab": {
          "base_uri": "https://localhost:8080/"
        },
        "id": "bDSo6uAjVqpA",
        "outputId": "a1c7fd8a-de5c-428f-afa9-7241f4b429b5"
      },
      "execution_count": null,
      "outputs": [
        {
          "output_type": "execute_result",
          "data": {
            "text/plain": [
              "8"
            ]
          },
          "metadata": {},
          "execution_count": 3
        }
      ]
    },
    {
      "cell_type": "markdown",
      "source": [
        "When you put two lines with equations it only prints the output of the last line"
      ],
      "metadata": {
        "id": "MyFAqDHAWQB0"
      }
    },
    {
      "cell_type": "code",
      "source": [
        "2+2\n",
        "3*3"
      ],
      "metadata": {
        "colab": {
          "base_uri": "https://localhost:8080/"
        },
        "id": "osK2JVVEWMU0",
        "outputId": "81d14420-f446-4365-8528-c003f09bed16"
      },
      "execution_count": null,
      "outputs": [
        {
          "output_type": "execute_result",
          "data": {
            "text/plain": [
              "9"
            ]
          },
          "metadata": {},
          "execution_count": 5
        }
      ]
    },
    {
      "cell_type": "markdown",
      "source": [
        "However, using print shows all the outputs"
      ],
      "metadata": {
        "id": "XkqhzlSHWt35"
      }
    },
    {
      "cell_type": "code",
      "source": [
        "print(2+2)\n",
        "print(3*3)"
      ],
      "metadata": {
        "colab": {
          "base_uri": "https://localhost:8080/"
        },
        "id": "GHqB6HZ8Vt4m",
        "outputId": "408cbef0-c7b1-484d-eb80-f85bb26e2acc"
      },
      "execution_count": null,
      "outputs": [
        {
          "output_type": "stream",
          "name": "stdout",
          "text": [
            "4\n",
            "9\n"
          ]
        }
      ]
    },
    {
      "cell_type": "code",
      "source": [
        "print(2+2)\n",
        "3*3"
      ],
      "metadata": {
        "colab": {
          "base_uri": "https://localhost:8080/"
        },
        "id": "YuULXQamXB9S",
        "outputId": "15fc0af8-2e6d-4768-89cd-405340a41fb1"
      },
      "execution_count": null,
      "outputs": [
        {
          "output_type": "stream",
          "name": "stdout",
          "text": [
            "4\n"
          ]
        },
        {
          "output_type": "execute_result",
          "data": {
            "text/plain": [
              "9"
            ]
          },
          "metadata": {},
          "execution_count": 6
        }
      ]
    },
    {
      "cell_type": "markdown",
      "source": [
        "# Make a comment"
      ],
      "metadata": {
        "id": "ZY5mPzAiXiTG"
      }
    },
    {
      "cell_type": "markdown",
      "source": [
        "To add a note to your code, include a # before the line, called a comment"
      ],
      "metadata": {
        "id": "LRgjB-17Xm5h"
      }
    },
    {
      "cell_type": "code",
      "source": [
        "#This is a comment"
      ],
      "metadata": {
        "id": "BUV7KW4BXwR4"
      },
      "execution_count": null,
      "outputs": []
    },
    {
      "cell_type": "code",
      "source": [
        "#This is a comment and\n",
        "2+2 #This adds 2 and 2"
      ],
      "metadata": {
        "colab": {
          "base_uri": "https://localhost:8080/"
        },
        "id": "X_2GfF_XX3LB",
        "outputId": "4ffd1f5f-cb01-41a5-8a53-3945f7e2c618"
      },
      "execution_count": null,
      "outputs": [
        {
          "output_type": "execute_result",
          "data": {
            "text/plain": [
              "4"
            ]
          },
          "metadata": {},
          "execution_count": 8
        }
      ]
    },
    {
      "cell_type": "markdown",
      "source": [
        "# Markdown guide\n",
        "\n",
        "[Here is the Markdown guide link](https://markdownguide.org/basic-syntax/)"
      ],
      "metadata": {
        "id": "pjceL-XZYZbK"
      }
    },
    {
      "cell_type": "markdown",
      "source": [
        "# Advanced Jupyter Notebook Usabe"
      ],
      "metadata": {
        "id": "ga3BFR48Kf3m"
      }
    },
    {
      "cell_type": "markdown",
      "source": [
        "**Shell Command** - Executes shell commands directly from the notebook cell, such as listing files. The symbol is **!** An example would be **!ls**\n",
        "\n",
        "**Line Magic** - Executes a line magic command, affecting only the line it is on, like changing directories. The symbol is **%**. An example would be **%cd sample_data**\n",
        "\n",
        "**Cell Magic** - Applies the magic command to the entire cell, such as writing the cell's content to a file. The symbol is **%%**. An example would be **%%writefile test.txt**"
      ],
      "metadata": {
        "id": "tbarjlE9Kqte"
      }
    }
  ]
}