{
  "cells": [
    {
      "cell_type": "markdown",
      "metadata": {
        "id": "88PgiJufNFqT"
      },
      "source": [
        "## Create a Variable"
      ]
    },
    {
      "cell_type": "markdown",
      "metadata": {
        "id": "qvf1txeaNRtS"
      },
      "source": [
        "variable_name = value"
      ]
    },
    {
      "cell_type": "code",
      "execution_count": null,
      "metadata": {
        "id": "gWmVQac-Nr46"
      },
      "outputs": [],
      "source": [
        "salary = 100000"
      ]
    },
    {
      "cell_type": "code",
      "execution_count": null,
      "metadata": {
        "colab": {
          "base_uri": "https://localhost:8080/"
        },
        "id": "jDcDOmbRe_cf",
        "outputId": "cdb0120d-6228-4e2b-df5e-3fb5883b57ee"
      },
      "outputs": [
        {
          "data": {
            "text/plain": [
              "100000"
            ]
          },
          "execution_count": 3,
          "metadata": {},
          "output_type": "execute_result"
        }
      ],
      "source": [
        "salary"
      ]
    },
    {
      "cell_type": "code",
      "execution_count": null,
      "metadata": {
        "colab": {
          "base_uri": "https://localhost:8080/",
          "height": 35
        },
        "id": "hkGm29W9fNN8",
        "outputId": "c8a1ea87-a002-4b91-e102-8cc00cd879f4"
      },
      "outputs": [
        {
          "data": {
            "application/vnd.google.colaboratory.intrinsic+json": {
              "type": "string"
            },
            "text/plain": [
              "'salary'"
            ]
          },
          "execution_count": 4,
          "metadata": {},
          "output_type": "execute_result"
        }
      ],
      "source": [
        "\"salary\""
      ]
    },
    {
      "cell_type": "markdown",
      "metadata": {
        "id": "UrcIgwubfSb8"
      },
      "source": [
        "# Calculate the Following"
      ]
    },
    {
      "cell_type": "markdown",
      "metadata": {
        "id": "qxQVX5I6fVB0"
      },
      "source": [
        "Total Salary = (Base Salary)*(1 + Bonus Rate)"
      ]
    },
    {
      "cell_type": "code",
      "execution_count": null,
      "metadata": {
        "id": "S30S0el4fbBE"
      },
      "outputs": [],
      "source": [
        "base_salary = 100000\n",
        "bonus_rate = .10"
      ]
    },
    {
      "cell_type": "code",
      "execution_count": null,
      "metadata": {
        "id": "VLHWfe3ZfrJs"
      },
      "outputs": [],
      "source": [
        "total_salary = (base_salary)*(1 + bonus_rate)"
      ]
    },
    {
      "cell_type": "code",
      "execution_count": null,
      "metadata": {
        "colab": {
          "base_uri": "https://localhost:8080/"
        },
        "id": "UJi_chMzf26d",
        "outputId": "3eb9b4d3-9dbb-4c5b-ae9d-69ac26232f81"
      },
      "outputs": [
        {
          "data": {
            "text/plain": [
              "110000.00000000001"
            ]
          },
          "execution_count": 7,
          "metadata": {},
          "output_type": "execute_result"
        }
      ],
      "source": [
        "total_salary"
      ]
    },
    {
      "cell_type": "markdown",
      "metadata": {
        "id": "wXjLY-dDgGmk"
      },
      "source": [
        "If you try to name a variable with a space, you will get a syntax error. For example 'lukes salary' is the wrong way to name a variable.\n",
        "\n",
        "You would need to add an underscore to replace the space between the words, otherwise, it's an error."
      ]
    },
    {
      "cell_type": "code",
      "execution_count": null,
      "metadata": {
        "id": "dLWGnfqVWsDy"
      },
      "outputs": [],
      "source": [
        "lukes_salary = 100000"
      ]
    },
    {
      "cell_type": "markdown",
      "metadata": {
        "id": "s-8hqKprW1GO"
      },
      "source": [
        "# Variables aren't only numbers"
      ]
    },
    {
      "cell_type": "markdown",
      "metadata": {
        "id": "CyIjHnaeW86w"
      },
      "source": [
        "Example\n",
        "\n",
        "\n",
        "*   Create variables to store the following information about a job posting:\n",
        "\n",
        "    *   Job ID (integer)\n",
        "    *   Company Name (string)\n",
        "    *   Salary Rate (string, but consider how you might store this as a numerical type for calculations)\n",
        "    *   Job Work From Home (boolean)   \n",
        "\n",
        "\n",
        "\n"
      ]
    },
    {
      "cell_type": "code",
      "execution_count": null,
      "metadata": {
        "id": "ZtT96DljXp8N"
      },
      "outputs": [],
      "source": [
        "company_name = \"DataWiz Inc.\""
      ]
    },
    {
      "cell_type": "code",
      "execution_count": null,
      "metadata": {
        "colab": {
          "base_uri": "https://localhost:8080/",
          "height": 36
        },
        "id": "wtZjixsNX9Sr",
        "outputId": "b2902f6a-b868-4086-ced9-6966c30f894c"
      },
      "outputs": [
        {
          "data": {
            "application/vnd.google.colaboratory.intrinsic+json": {
              "type": "string"
            },
            "text/plain": [
              "'DataWiz Inc.'"
            ]
          },
          "execution_count": 4,
          "metadata": {},
          "output_type": "execute_result"
        }
      ],
      "source": [
        "company_name"
      ]
    },
    {
      "cell_type": "code",
      "execution_count": null,
      "metadata": {
        "id": "QYR_zfIEYKs3"
      },
      "outputs": [],
      "source": [
        "job_wfh = True"
      ]
    },
    {
      "cell_type": "code",
      "execution_count": null,
      "metadata": {
        "colab": {
          "base_uri": "https://localhost:8080/"
        },
        "id": "XpNfiWVeZiDj",
        "outputId": "e8de91dc-784d-4dda-df19-73cfafc3793e"
      },
      "outputs": [
        {
          "data": {
            "text/plain": [
              "True"
            ]
          },
          "execution_count": 7,
          "metadata": {},
          "output_type": "execute_result"
        }
      ],
      "source": [
        "job_wfh"
      ]
    },
    {
      "cell_type": "code",
      "execution_count": null,
      "metadata": {
        "id": "fITwXPLQa3K-"
      },
      "outputs": [],
      "source": [
        "job_id = 101\n",
        "job_title = \"Data Analyst\"\n",
        "job_salary = 125000"
      ]
    },
    {
      "cell_type": "code",
      "execution_count": null,
      "metadata": {
        "colab": {
          "base_uri": "https://localhost:8080/"
        },
        "id": "B861IJ1hbQlV",
        "outputId": "f9e7d2d6-a67a-459a-d4ba-38610c0438af"
      },
      "outputs": [
        {
          "name": "stdout",
          "output_type": "stream",
          "text": [
            "Data Job Description\n",
            "++++++++++++++++++++\n",
            "Job ID:       101\n",
            "Company Name: DataWiz Inc.\n",
            "Job Title:    Data Analyst\n",
            "Salary:       125000\n",
            "WFM:          True\n"
          ]
        }
      ],
      "source": [
        "print(\"Data Job Description\")\n",
        "print(\"++++++++++++++++++++\")\n",
        "print(\"Job ID:      \", job_id)\n",
        "print(\"Company Name:\", company_name)\n",
        "print(\"Job Title:   \", job_title)\n",
        "print(\"Salary:      \", job_salary)\n",
        "print(\"WFM:         \", job_wfh)"
      ]
    }
  ],
  "metadata": {
    "colab": {
      "provenance": []
    },
    "kernelspec": {
      "display_name": "base",
      "language": "python",
      "name": "python3"
    },
    "language_info": {
      "name": "python",
      "version": "3.12.7"
    }
  },
  "nbformat": 4,
  "nbformat_minor": 0
}
